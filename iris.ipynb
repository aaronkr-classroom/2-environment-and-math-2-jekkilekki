{
 "cells": [
  {
   "cell_type": "markdown",
   "id": "7eeb4fa2",
   "metadata": {},
   "source": [
    "# Markdown\n",
    "\n",
    "Write your own MD content from `slide 49`."
   ]
  },
  {
   "cell_type": "code",
   "execution_count": null,
   "id": "5de6b5f3",
   "metadata": {
    "vscode": {
     "languageId": "plaintext"
    }
   },
   "outputs": [],
   "source": [
    "# 1. Hello Python\n",
    "name = \"Aaron\"\n",
    "goals = ['learn ML', 'learn DL', 'deeply learn DL']\n",
    "\n",
    "print(\"Hello,\", name, \"!\")\n",
    "print(\"Hello, \" + name + \"!\")\n",
    "\n",
    "# for(1 starting point; 2 end condition; 4 next step;) {\n",
    "    # 3 executing code;\n",
    "# }\n",
    "for g in goals:\n",
    "    print(\"-\", g)\n",
    "\n",
    "# if - elif - else\n",
    "if \"learn ML\" in goals:\n",
    "    print(\"Let's learn ML!\")"
   ]
  }
 ],
 "metadata": {
  "language_info": {
   "name": "python"
  }
 },
 "nbformat": 4,
 "nbformat_minor": 5
}
